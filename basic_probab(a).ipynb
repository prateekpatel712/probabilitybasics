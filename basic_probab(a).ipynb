import random

num_tosses = 10000

head_count = 0 
tail_count = 0 

for _ in range(num_tosses):
    toss = random.choice(['Head', 'Tail'])
    if toss == 'Head':
        head_count += 1
    else:
        tail_count += 1

head_probability = head_count/num_tosses
tail_probability = tail_count/num_tosses

print("Probabilities for heads and tails with count are")
print(f"Head count :{head_count} having probability {head_probability}")
print(f"Tail count :{tail_count} having probability {tail_probability}")
