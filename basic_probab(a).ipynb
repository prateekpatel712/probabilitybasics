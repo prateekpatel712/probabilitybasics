{
 "cells": [
  {
   "cell_type": "code",
   "execution_count": 1,
   "id": "a78064ec-86c7-458b-a08b-e36fb7e6baac",
   "metadata": {},
   "outputs": [
    {
     "name": "stdout",
     "output_type": "stream",
     "text": [
      "Probabilities for heads and tails with count are\n",
      "Head count :5067 having probability 0.5067\n",
      "Tail count :4933 having probability 0.4933\n"
     ]
    }
   ],
   "source": [
    "import random\n",
    "\n",
    "num_tosses = 10000\n",
    "\n",
    "head_count = 0 \n",
    "tail_count = 0 \n",
    "\n",
    "for _ in range(num_tosses):\n",
    "    toss = random.choice(['Head', 'Tail'])\n",
    "    if toss == 'Head':\n",
    "        head_count += 1\n",
    "    else:\n",
    "        tail_count += 1\n",
    "\n",
    "head_probability = head_count/num_tosses\n",
    "tail_probability = tail_count/num_tosses\n",
    "\n",
    "print(\"Probabilities for heads and tails with count are\")\n",
    "print(f\"Head count :{head_count} having probability {head_probability}\")\n",
    "print(f\"Tail count :{tail_count} having probability {tail_probability}\")"
   ]
  },
  {
   "cell_type": "code",
   "execution_count": null,
   "id": "217ae711-ed5a-4656-9cca-43d3719c9b2d",
   "metadata": {},
   "outputs": [],
   "source": []
  }
 ],
 "metadata": {
  "kernelspec": {
   "display_name": "Python 3 (ipykernel)",
   "language": "python",
   "name": "python3"
  },
  "language_info": {
   "codemirror_mode": {
    "name": "ipython",
    "version": 3
   },
   "file_extension": ".py",
   "mimetype": "text/x-python",
   "name": "python",
   "nbconvert_exporter": "python",
   "pygments_lexer": "ipython3",
   "version": "3.13.2"
  }
 },
 "nbformat": 4,
 "nbformat_minor": 5
}
